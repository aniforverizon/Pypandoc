{
 "cells": [
  {
   "cell_type": "code",
   "execution_count": 10,
   "id": "cac33a56",
   "metadata": {},
   "outputs": [],
   "source": [
    "import os "
   ]
  },
  {
   "cell_type": "code",
   "execution_count": 11,
   "id": "bbe5ebd3",
   "metadata": {
    "scrolled": true
   },
   "outputs": [
    {
     "name": "stdout",
     "output_type": "stream",
     "text": [
      "pandoc files.html -o files.rst\n",
      "pandoc globals.html -o globals.rst\n",
      "pandoc index.html -o index.rst\n",
      "pandoc modules.html -o modules.rst\n"
     ]
    }
   ],
   "source": [
    "import os \n",
    "path = 'C:\\\\Users\\\\DELL\\\\Desktop\\\\Pandoc\\\\files\\\\'\n",
    "list1 = os.listdir(path)\n",
    "# print(list1)\n",
    "for file in list1:\n",
    "#     print(file)\n",
    "    filename = file.split('.')[0]\n",
    "#     print(filename)\n",
    "    newname = filename+'.rst'\n",
    "#     print(newname)\n",
    "    command = 'pandoc '+ file +' -o '+ newname\n",
    "    print(command)\n"
   ]
  },
  {
   "cell_type": "code",
   "execution_count": 12,
   "id": "592c85e4",
   "metadata": {},
   "outputs": [],
   "source": [
    "import pypandoc"
   ]
  },
  {
   "cell_type": "code",
   "execution_count": 13,
   "id": "e51dec69",
   "metadata": {},
   "outputs": [
    {
     "name": "stdout",
     "output_type": "stream",
     "text": [
      "files.html\n",
      "globals.html\n",
      "index.html\n",
      "modules.html\n"
     ]
    }
   ],
   "source": [
    "path = 'C:\\\\Users\\\\DELL\\\\Desktop\\\\Pandoc\\\\files\\\\'\n",
    "list1 = os.listdir(path)\n",
    "# print(list1)\n",
    "for file in list1:\n",
    "    print(file)\n",
    "    filename = file.split('.')[0]\n",
    "#     print(filename)\n",
    "    newname = filename+'.rst'\n",
    "#     print(newname)\n",
    "    pypandoc.convert_file(source_file = path+file, to = 'rst', outputfile = path+newname)\n"
   ]
  },
  {
   "cell_type": "code",
   "execution_count": null,
   "id": "8bb7e137",
   "metadata": {},
   "outputs": [],
   "source": []
  },
  {
   "cell_type": "code",
   "execution_count": null,
   "id": "e8531e14",
   "metadata": {},
   "outputs": [],
   "source": []
  }
 ],
 "metadata": {
  "kernelspec": {
   "display_name": "Python 3 (ipykernel)",
   "language": "python",
   "name": "python3"
  },
  "language_info": {
   "codemirror_mode": {
    "name": "ipython",
    "version": 3
   },
   "file_extension": ".py",
   "mimetype": "text/x-python",
   "name": "python",
   "nbconvert_exporter": "python",
   "pygments_lexer": "ipython3",
   "version": "3.9.7"
  }
 },
 "nbformat": 4,
 "nbformat_minor": 5
}
